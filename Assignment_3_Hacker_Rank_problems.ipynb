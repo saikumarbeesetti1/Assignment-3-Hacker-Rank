{
  "cells": [
    {
      "cell_type": "code",
      "source": [],
      "metadata": {
        "id": "zXlbNoCKl7l3"
      },
      "execution_count": null,
      "outputs": []
    },
    {
      "cell_type": "markdown",
      "source": [
        "# This tool returns the  length subsequences of elements from the input iterable.\n",
        "\n",
        "Combinations are emitted in lexicographic sorted order. So, if the input iterable is sorted, the combination tuples will be produced in sorted order.\n",
        "\n",
        "Sample Code\n",
        "\n",
        ">>> from itertools import combinations\n",
        ">>> \n",
        ">>> print list(combinations('12345',2))\n",
        "[('1', '2'), ('1', '3'), ('1', '4'), ('1', '5'), ('2', '3'), ('2', '4'), ('2', '5'), ('3', '4'), ('3', '5'), ('4', '5')]\n",
        ">>> \n",
        ">>> A = [1,1,3,3,3]\n",
        ">>> print list(combinations(A,4))\n",
        "[(1, 1, 3, 3), (1, 1, 3, 3), (1, 1, 3, 3), (1, 3, 3, 3), (1, 3, 3, 3)]\n",
        "Task\n",
        "\n",
        "You are given a string .\n",
        "Your task is to print all possible combinations, up to size , of the string in lexicographic sorted order.\n",
        "\n",
        "Input Format\n",
        "\n",
        "A single line containing the string  and integer value  separated by a space.\n",
        "\n",
        "Constraints\n",
        "\n",
        "\n",
        "The string contains only UPPERCASE characters.\n",
        "\n",
        "Output Format\n",
        "\n",
        "Print the different combinations of string  on separate lines.\n",
        "\n",
        "Sample Input\n",
        "\n",
        "HACK 2\n",
        "Sample Output\n",
        "\n",
        "A\n",
        "C\n",
        "H\n",
        "K\n",
        "AC\n",
        "AH\n",
        "AK\n",
        "CH\n",
        "CK\n",
        "HK"
      ],
      "metadata": {
        "id": "ehkUJvJxl8JU"
      }
    },
    {
      "cell_type": "code",
      "source": [
        "from itertools import combinations\n",
        "print(list(combinations(\"12345\",4,)))\n",
        "print()\n"
      ],
      "metadata": {
        "colab": {
          "base_uri": "https://localhost:8080/"
        },
        "id": "4szgKlLpl7hP",
        "outputId": "b53084c7-07af-4a0a-97da-bf4e91c8ccc1"
      },
      "execution_count": 3,
      "outputs": [
        {
          "output_type": "stream",
          "name": "stdout",
          "text": [
            "[('1', '2', '3', '4'), ('1', '2', '3', '5'), ('1', '2', '4', '5'), ('1', '3', '4', '5'), ('2', '3', '4', '5')]\n",
            "\n"
          ]
        }
      ]
    },
    {
      "cell_type": "code",
      "source": [
        "s,k=input().split() \n",
        "s=''.join(sorted(s))\n",
        "s=s.upper()\n",
        "from itertools import combinations \n",
        "for i in range(1,int(k)+1): \n",
        "    x=list(combinations(s,i)) \n",
        "    for j in x: \n",
        "        print(''.join(j))\n"
      ],
      "metadata": {
        "id": "ZsYYMQ4Xl7f2",
        "colab": {
          "base_uri": "https://localhost:8080/"
        },
        "outputId": "d8678a5c-d253-47d0-997b-80b3cbc285df"
      },
      "execution_count": 6,
      "outputs": [
        {
          "output_type": "stream",
          "name": "stdout",
          "text": [
            "hack 2\n",
            "A\n",
            "C\n",
            "H\n",
            "K\n",
            "AC\n",
            "AH\n",
            "AK\n",
            "CH\n",
            "CK\n",
            "HK\n"
          ]
        }
      ]
    },
    {
      "cell_type": "markdown",
      "source": [
        "# itertools.product()\n",
        "\n",
        "This tool computes the cartesian product of input iterables.\n",
        "It is equivalent to nested for-loops.\n",
        "For example, product(A, B) returns the same as ((x,y) for x in A for y in B).\n",
        "\n",
        "Sample Code\n",
        "\n",
        ">>> from itertools import product\n",
        ">>>\n",
        ">>> print list(product([1,2,3],repeat = 2))\n",
        "[(1, 1), (1, 2), (1, 3), (2, 1), (2, 2), (2, 3), (3, 1), (3, 2), (3, 3)]\n",
        ">>>\n",
        ">>> print list(product([1,2,3],[3,4]))\n",
        "[(1, 3), (1, 4), (2, 3), (2, 4), (3, 3), (3, 4)]\n",
        ">>>\n",
        ">>> A = [[1,2,3],[3,4,5]]\n",
        ">>> print list(product(*A))\n",
        "[(1, 3), (1, 4), (1, 5), (2, 3), (2, 4), (2, 5), (3, 3), (3, 4), (3, 5)]\n",
        ">>>\n",
        ">>> B = [[1,2,3],[3,4,5],[7,8]]\n",
        ">>> print list(product(*B))\n",
        "[(1, 3, 7), (1, 3, 8), (1, 4, 7), (1, 4, 8), (1, 5, 7), (1, 5, 8), (2, 3, 7), (2, 3, 8), (2, 4, 7), (2, 4, 8), (2, 5, 7), (2, 5, 8), (3, 3, 7), (3, 3, 8), (3, 4, 7), (3, 4, 8), (3, 5, 7), (3, 5, 8)]\n",
        "Task\n",
        "\n",
        "You are given a two lists  and . Your task is to compute their cartesian product X.\n",
        "\n",
        "Example\n",
        "\n",
        "A = [1, 2]\n",
        "B = [3, 4]\n",
        "\n",
        "AxB = [(1, 3), (1, 4), (2, 3), (2, 4)]\n",
        "Note:  and  are sorted lists, and the cartesian product's tuples should be output in sorted order.\n",
        "\n",
        "Input Format\n",
        "\n",
        "The first line contains the space separated elements of list .\n",
        "The second line contains the space separated elements of list .\n",
        "\n",
        "Both lists have no duplicate integer elements.\n",
        "\n",
        "Constraints\n",
        "\n",
        "\n",
        "\n",
        "Output Format\n",
        "\n",
        "Output the space separated tuples of the cartesian product.\n",
        "\n",
        "Sample Input\n",
        "\n",
        " 1 2\n",
        " 3 4\n",
        "Sample Output\n",
        "\n",
        " (1, 3) (1, 4) (2, 3) (2, 4)"
      ],
      "metadata": {
        "id": "-o1cJRt4Biwf"
      }
    },
    {
      "cell_type": "code",
      "source": [
        "from itertools import product\n",
        "\n",
        "A = list(map(int, input().split()))\n",
        "B = list(map(int, input().split()))\n",
        "\n",
        "c = list(product(A, B))\n",
        "for i in c:\n",
        "    print(i,end=\" \")"
      ],
      "metadata": {
        "id": "EZWIRokDl7ei",
        "colab": {
          "base_uri": "https://localhost:8080/"
        },
        "outputId": "b2de67a0-64ad-491e-ea0d-46837867586a"
      },
      "execution_count": 1,
      "outputs": [
        {
          "output_type": "stream",
          "name": "stdout",
          "text": [
            "1 2\n",
            "3 4\n",
            "(1, 3) (1, 4) (2, 3) (2, 4) "
          ]
        }
      ]
    },
    {
      "cell_type": "markdown",
      "source": [
        "# itertools.permutations(iterable[, r])\n",
        "\n",
        "This tool returns successive  length permutations of elements in an iterable.\n",
        "\n",
        "If  is not specified or is None, then  defaults to the length of the iterable, and all possible full length permutations are generated.\n",
        "\n",
        "Permutations are printed in a lexicographic sorted order. So, if the input iterable is sorted, the permutation tuples will be produced in a sorted order.\n",
        "\n",
        "Sample Code\n",
        "\n",
        ">>> from itertools import permutations\n",
        ">>> print permutations(['1','2','3'])\n",
        "<itertools.permutations object at 0x02A45210>\n",
        ">>> \n",
        ">>> print list(permutations(['1','2','3']))\n",
        "[('1', '2', '3'), ('1', '3', '2'), ('2', '1', '3'), ('2', '3', '1'), ('3', '1', '2'), ('3', '2', '1')]\n",
        ">>> \n",
        ">>> print list(permutations(['1','2','3'],2))\n",
        "[('1', '2'), ('1', '3'), ('2', '1'), ('2', '3'), ('3', '1'), ('3', '2')]\n",
        ">>>\n",
        ">>> print list(permutations('abc',3))\n",
        "[('a', 'b', 'c'), ('a', 'c', 'b'), ('b', 'a', 'c'), ('b', 'c', 'a'), ('c', 'a', 'b'), ('c', 'b', 'a')]\n",
        "Task\n",
        "\n",
        "You are given a string .\n",
        "Your task is to print all possible permutations of size  of the string in lexicographic sorted order.\n",
        "\n",
        "Input Format\n",
        "\n",
        "A single line containing the space separated string  and the integer value .\n",
        "\n",
        "Constraints\n",
        "\n",
        "\n",
        "The string contains only UPPERCASE characters.\n",
        "\n",
        "Output Format\n",
        "\n",
        "Print the permutations of the string  on separate lines.\n",
        "\n",
        "Sample Input\n",
        "\n",
        "HACK 2\n",
        "Sample Output\n",
        "\n",
        "AC\n",
        "AH\n",
        "AK\n",
        "CA\n",
        "CH\n",
        "CK\n",
        "HA\n",
        "HC\n",
        "HK\n",
        "KA\n",
        "KC\n",
        "KH\n",
        "Explanation\n",
        "\n",
        "All possible size  permutations of the string \"HACK\" are printed in lexicographic sorted order."
      ],
      "metadata": {
        "id": "YHBalC1excE3"
      }
    },
    {
      "cell_type": "code",
      "source": [
        "\n"
      ],
      "metadata": {
        "id": "wjo_7yo1l7dD"
      },
      "execution_count": 41,
      "outputs": []
    },
    {
      "cell_type": "code",
      "source": [
        "s = input().split()\n",
        "name = sorted(s[0])\n",
        "count = int(s[1])\n",
        "from itertools import permutations\n",
        "for j in range(0,count):\n",
        "  op = list(permutations(name,count))\n",
        "  for i in op:\n",
        "    \"\".join(i)\n",
        "    print(\"\".join(i))\n",
        "  break"
      ],
      "metadata": {
        "id": "2k35bWsVl7bn",
        "colab": {
          "base_uri": "https://localhost:8080/"
        },
        "outputId": "1f972acc-07d9-45d8-f1e9-2d720ad6e3e4"
      },
      "execution_count": 41,
      "outputs": [
        {
          "output_type": "stream",
          "name": "stdout",
          "text": [
            "HACK 2\n",
            "AC\n",
            "AH\n",
            "AK\n",
            "CA\n",
            "CH\n",
            "CK\n",
            "HA\n",
            "HC\n",
            "HK\n",
            "KA\n",
            "KC\n",
            "KH\n"
          ]
        }
      ]
    },
    {
      "cell_type": "code",
      "source": [
        "A"
      ],
      "metadata": {
        "id": "2w-7aM8_l7aM"
      },
      "execution_count": null,
      "outputs": []
    },
    {
      "cell_type": "code",
      "source": [],
      "metadata": {
        "id": "lVTgnSTgl7Y4"
      },
      "execution_count": null,
      "outputs": []
    },
    {
      "cell_type": "code",
      "source": [],
      "metadata": {
        "id": "aCcaPj69l7XR"
      },
      "execution_count": null,
      "outputs": []
    },
    {
      "cell_type": "code",
      "source": [],
      "metadata": {
        "id": "t_CMKWful7WJ"
      },
      "execution_count": null,
      "outputs": []
    },
    {
      "cell_type": "code",
      "source": [],
      "metadata": {
        "id": "Sjf4kN5Gl7UH"
      },
      "execution_count": null,
      "outputs": []
    },
    {
      "cell_type": "code",
      "source": [],
      "metadata": {
        "id": "611Jio4Ll7Sr"
      },
      "execution_count": null,
      "outputs": []
    },
    {
      "cell_type": "code",
      "source": [],
      "metadata": {
        "id": "y80heOa8l68O"
      },
      "execution_count": null,
      "outputs": []
    },
    {
      "cell_type": "code",
      "source": [],
      "metadata": {
        "id": "U810bYg1l66b"
      },
      "execution_count": null,
      "outputs": []
    },
    {
      "cell_type": "code",
      "source": [],
      "metadata": {
        "id": "fBdq6LkQl65C"
      },
      "execution_count": null,
      "outputs": []
    },
    {
      "cell_type": "code",
      "source": [],
      "metadata": {
        "id": "ItUjFXe3l63A"
      },
      "execution_count": null,
      "outputs": []
    }
  ],
  "metadata": {
    "colab": {
      "provenance": []
    },
    "kernelspec": {
      "display_name": "Python 3",
      "name": "python3"
    }
  },
  "nbformat": 4,
  "nbformat_minor": 0
}